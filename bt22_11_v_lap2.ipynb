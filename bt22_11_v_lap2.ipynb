{
  "nbformat": 4,
  "nbformat_minor": 0,
  "metadata": {
    "colab": {
      "name": "bt22-11-v.lap2.ipynb",
      "provenance": [],
      "authorship_tag": "ABX9TyP/3myOPWiyc9iNN6sEu7Va",
      "include_colab_link": true
    },
    "kernelspec": {
      "name": "python3",
      "display_name": "Python 3"
    },
    "language_info": {
      "name": "python"
    }
  },
  "cells": [
    {
      "cell_type": "markdown",
      "metadata": {
        "id": "view-in-github",
        "colab_type": "text"
      },
      "source": [
        "<a href=\"https://colab.research.google.com/github/NhuY26/bai22-11/blob/main/bt22_11_v_lap2.ipynb\" target=\"_parent\"><img src=\"https://colab.research.google.com/assets/colab-badge.svg\" alt=\"Open In Colab\"/></a>"
      ]
    },
    {
      "cell_type": "code",
      "metadata": {
        "colab": {
          "base_uri": "https://localhost:8080/"
        },
        "id": "WCgTuM25EAhf",
        "outputId": "31277da6-094d-45a5-cc8b-d0e718efcece"
      },
      "source": [
        "#1\n",
        "import math\n",
        "\n",
        "mydict = {}\n",
        "\n",
        "n = int(input(\"Nhập số nguyên dương N: \"))\n",
        "\n",
        "while(n < 1):\n",
        "    print(\"Nhập sai, xin nhập lại!\")\n",
        "    n = int(input(\"Nhập số nguyên dương N: \"))\n",
        "\n",
        "count = 1\n",
        "\n",
        "while(count <= n):\n",
        "    mydict[count] = math.log(count)\n",
        "    count += 1\n",
        "\n",
        "print(mydict)"
      ],
      "execution_count": 1,
      "outputs": [
        {
          "output_type": "stream",
          "name": "stdout",
          "text": [
            "Nhập số nguyên dương N: 25\n",
            "{1: 0.0, 2: 0.6931471805599453, 3: 1.0986122886681098, 4: 1.3862943611198906, 5: 1.6094379124341003, 6: 1.791759469228055, 7: 1.9459101490553132, 8: 2.0794415416798357, 9: 2.1972245773362196, 10: 2.302585092994046, 11: 2.3978952727983707, 12: 2.4849066497880004, 13: 2.5649493574615367, 14: 2.6390573296152584, 15: 2.70805020110221, 16: 2.772588722239781, 17: 2.833213344056216, 18: 2.8903717578961645, 19: 2.9444389791664403, 20: 2.995732273553991, 21: 3.044522437723423, 22: 3.091042453358316, 23: 3.1354942159291497, 24: 3.1780538303479458, 25: 3.2188758248682006}\n"
          ]
        }
      ]
    },
    {
      "cell_type": "code",
      "metadata": {
        "colab": {
          "base_uri": "https://localhost:8080/"
        },
        "id": "Qiku9-5PEXRX",
        "outputId": "c07d4620-ccec-4613-d931-904cc7666e2e"
      },
      "source": [
        "#2\n",
        "arr = input(\"Nhập chuỗi: \").split(\",\")\n",
        "\n",
        "print(arr)\n",
        "\n",
        "print(type(arr))"
      ],
      "execution_count": 2,
      "outputs": [
        {
          "output_type": "stream",
          "name": "stdout",
          "text": [
            "Nhập chuỗi: 2510,2610\n",
            "['2510', '2610']\n",
            "<class 'list'>\n"
          ]
        }
      ]
    },
    {
      "cell_type": "code",
      "metadata": {
        "colab": {
          "base_uri": "https://localhost:8080/"
        },
        "id": "DtMVL0t_EizU",
        "outputId": "e009d768-f35c-4a17-e947-a1c4798f0960"
      },
      "source": [
        "#3\n",
        "arr = input(\"Nhập chuỗi: \").split(\",\")\n",
        "\n",
        "arr = tuple(arr)\n",
        "\n",
        "print(arr)\n",
        "\n",
        "print(type(arr))"
      ],
      "execution_count": 3,
      "outputs": [
        {
          "output_type": "stream",
          "name": "stdout",
          "text": [
            "Nhập chuỗi: 2510,2610\n",
            "('2510', '2610')\n",
            "<class 'tuple'>\n"
          ]
        }
      ]
    },
    {
      "cell_type": "code",
      "metadata": {
        "colab": {
          "base_uri": "https://localhost:8080/"
        },
        "id": "UczVpy76EpsI",
        "outputId": "954247d9-ee0f-4ab8-a8a8-b7a8939bf5ba"
      },
      "source": [
        "#4\n",
        "arr = input(\"Nhập chuỗi: \").split()\n",
        "\n",
        "print(arr)\n",
        "\n",
        "print(type(arr))"
      ],
      "execution_count": 4,
      "outputs": [
        {
          "output_type": "stream",
          "name": "stdout",
          "text": [
            "Nhập chuỗi: 2525\n",
            "['2525']\n",
            "<class 'list'>\n"
          ]
        }
      ]
    }
  ]
}